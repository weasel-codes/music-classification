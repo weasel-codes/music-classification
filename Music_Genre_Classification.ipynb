{
  "nbformat": 4,
  "nbformat_minor": 0,
  "metadata": {
    "colab": {
      "name": "Music-Genre-Classification.ipynb",
      "provenance": [],
      "collapsed_sections": [],
      "include_colab_link": true
    },
    "kernelspec": {
      "name": "python3",
      "display_name": "Python 3"
    },
    "accelerator": "GPU"
  },
  "cells": [
    {
      "cell_type": "markdown",
      "metadata": {
        "id": "view-in-github",
        "colab_type": "text"
      },
      "source": [
        "<a href=\"https://colab.research.google.com/github/weasel-codes/music-classification/blob/main/Music_Genre_Classification.ipynb\" target=\"_parent\"><img src=\"https://colab.research.google.com/assets/colab-badge.svg\" alt=\"Open In Colab\"/></a>"
      ]
    },
    {
      "cell_type": "markdown",
      "metadata": {
        "id": "_Ap0yu19BwW6"
      },
      "source": [
        "# Pre-Processing"
      ]
    },
    {
      "cell_type": "code",
      "metadata": {
        "id": "v_NFponBC2n6"
      },
      "source": [
        "import numpy as np\n",
        "from sklearn.model_selection import train_test_split\n",
        "import tensorflow.keras as keras\n",
        "import matplotlib.pyplot as plt\n",
        "import json"
      ],
      "execution_count": 1,
      "outputs": []
    },
    {
      "cell_type": "code",
      "metadata": {
        "colab": {
          "base_uri": "https://localhost:8080/"
        },
        "id": "vZqXKbqhzuR7",
        "outputId": "0715c0e0-c9e7-4982-e6b8-2240ec21be68"
      },
      "source": [
        "from google.colab import drive\n",
        "drive.mount('/content/drive')"
      ],
      "execution_count": 2,
      "outputs": [
        {
          "output_type": "stream",
          "text": [
            "Drive already mounted at /content/drive; to attempt to forcibly remount, call drive.mount(\"/content/drive\", force_remount=True).\n"
          ],
          "name": "stdout"
        }
      ]
    },
    {
      "cell_type": "code",
      "metadata": {
        "id": "CmtPlhIDDGAh"
      },
      "source": [
        "DATA_PATH = \"/content/drive/MyDrive/ML/MFCC.json\""
      ],
      "execution_count": 3,
      "outputs": []
    },
    {
      "cell_type": "code",
      "metadata": {
        "id": "bIpHrM9qDbb2"
      },
      "source": [
        "# LOAD JSON DATASET\n",
        "def load_data(data_path):\n",
        "    with open(data_path, \"r\") as fp:\n",
        "        data = json.load(fp)\n",
        "\n",
        "    X = np.array(data[\"mfcc\"])\n",
        "    y = np.array(data[\"labels\"])\n",
        "    return X, y # TARGET AND INPUT"
      ],
      "execution_count": 4,
      "outputs": []
    },
    {
      "cell_type": "code",
      "metadata": {
        "id": "sWLsFWkaFUgt"
      },
      "source": [
        "# GENERATE TEST, VALIDATION AND TRAIN SET\n",
        "def prepare_datasets(test_size, validation_size):\n",
        "    # load data\n",
        "    X, Y = load_data(DATA_PATH)\n",
        "\n",
        "    X_train, X_test, y_train, y_test = train_test_split(X, Y, test_size=test_size)\n",
        "    X_train, X_validation, y_train, y_validation = train_test_split(X_train, y_train, test_size=validation_size)\n",
        "\n",
        "    # add an axis/new_col to input sets\n",
        "    X_train = X_train[..., np.newaxis]\n",
        "    X_validation = X_validation[..., np.newaxis]\n",
        "    X_test = X_test[..., np.newaxis]\n",
        "\n",
        "    return X_train, X_validation, X_test, y_train, y_validation, y_test"
      ],
      "execution_count": 5,
      "outputs": []
    },
    {
      "cell_type": "code",
      "metadata": {
        "id": "xNBKkW1BD1H3"
      },
      "source": [
        "# PLOT ACCURACY/LOSS FOR TRAINING/VALIDATION SET USING NO_OF_EPOCHS\n",
        "def plot_history(history): # Training history of model\n",
        "    plt.figure(figsize=(10, 10))\n",
        "\n",
        "    plt.subplot(2, 2, 1)\n",
        "    plt.plot(history.history['loss'], label='Loss')\n",
        "    plt.plot(history.history['val_loss'], label='Validation Loss')\n",
        "    plt.legend()\n",
        "    plt.title('Training - Loss Function')\n",
        "\n",
        "    plt.subplot(2, 2, 2)\n",
        "    plt.plot(history.history['accuracy'], label='Accuracy')\n",
        "    plt.plot(history.history['val_accuracy'], label='Validation Accuracy')\n",
        "    plt.legend()\n",
        "    plt.title('Train - Accuracy')\n",
        "\n",
        "    fig, axs = plt.subplots(2)\n",
        "    # create accuracy sublpot\n",
        "    axs[0].plot(history.history[\"accuracy\"], label=\"train accuracy\")\n",
        "    axs[0].plot(history.history[\"val_accuracy\"], label=\"test accuracy\")\n",
        "    axs[0].set_ylabel(\"Accuracy\")\n",
        "    axs[0].legend(loc=\"lower right\")\n",
        "    axs[0].set_title(\"Accuracy eval\")\n",
        "\n",
        "    # create error sublpot\n",
        "    axs[1].plot(history.history[\"loss\"], label=\"train error\")\n",
        "    axs[1].plot(history.history[\"val_loss\"], label=\"test error\")\n",
        "    axs[1].set_ylabel(\"Error\")\n",
        "    axs[1].set_xlabel(\"Epoch\")\n",
        "    axs[1].legend(loc=\"upper right\")\n",
        "    axs[1].set_title(\"Error eval\")\n",
        "\n",
        "    plt.show()"
      ],
      "execution_count": 6,
      "outputs": []
    },
    {
      "cell_type": "markdown",
      "metadata": {
        "id": "9XHBFjO6HMjY"
      },
      "source": [
        "# CNN MODEL"
      ]
    },
    {
      "cell_type": "code",
      "metadata": {
        "id": "JOHcFkVeHOiT"
      },
      "source": [
        "# param input_shape (tuple): Shape of input set\n",
        "# return model: CNN model\n",
        "def build_model(input_shape):\n",
        "    # build network topology\n",
        "    model = keras.Sequential()\n",
        "\n",
        "    # 1st conv layer\n",
        "    model.add(keras.layers.Conv2D(32, (3, 3), activation='relu', input_shape=input_shape))\n",
        "    model.add(keras.layers.MaxPooling2D((3, 3), strides=(2, 2), padding='same'))\n",
        "    model.add(keras.layers.BatchNormalization())\n",
        "    model.add(keras.layers.Dropout(0.3))\n",
        "    \n",
        "    # 2nd conv layer\n",
        "    model.add(keras.layers.Conv2D(32, (3, 3), activation='relu'))\n",
        "    model.add(keras.layers.MaxPooling2D((3, 3), strides=(2, 2), padding='same'))\n",
        "    model.add(keras.layers.BatchNormalization())\n",
        "    model.add(keras.layers.Dropout(0.1))\n",
        "    \n",
        "    # 3rd conv layer\n",
        "    model.add(keras.layers.Conv2D(32, (2, 2), activation='relu'))\n",
        "    model.add(keras.layers.MaxPooling2D((2, 2), strides=(2, 2), padding='same'))\n",
        "    model.add(keras.layers.BatchNormalization())\n",
        "    model.add(keras.layers.Dropout(0.1))\n",
        "    \n",
        "    # flatten output and feed it into dense layer\n",
        "    model.add(keras.layers.Flatten())\n",
        "    model.add(keras.layers.Dense(64, activation='relu'))\n",
        "    model.add(keras.layers.Dropout(0.1))\n",
        "    \n",
        "    # output layer\n",
        "    model.add(keras.layers.Dense(10, activation='softmax'))\n",
        "\n",
        "    return model"
      ],
      "execution_count": 7,
      "outputs": []
    },
    {
      "cell_type": "markdown",
      "metadata": {
        "id": "8DHytTHzK85L"
      },
      "source": [
        "# PREDICTION"
      ]
    },
    {
      "cell_type": "code",
      "metadata": {
        "id": "Pp-QkbLJJzxU"
      },
      "source": [
        "genres = ['BLUES','CLASSICAL','COUNTRY','DISCO','HIPHOP','JAZZ','METAL','POP','REGGAE','ROCK']\n",
        "\n",
        "# PREDICT A SINGLE SAMPLE\n",
        "def predict(model, X, y):\n",
        "\n",
        "    # add a dimension to input data for sample - model.predict() expects a 4d array in this case\n",
        "    X = X[np.newaxis, ...] # array shape (1, 130, 13, 1)\n",
        "\n",
        "    # perform prediction\n",
        "    prediction = model.predict(X)\n",
        "\n",
        "    # get index with max value\n",
        "    predicted_index = np.argmax(prediction, axis=1)\n",
        "\n",
        "    print(\"Target: {}, Predicted label: {}\".format(y, predicted_index))\n",
        "\n",
        "    y = y.item()\n",
        "    predicted_index = predicted_index.item()\n",
        "    print(\"Target: \" + genres[y] + \", Predicted Index: \" + genres[predicted_index])"
      ],
      "execution_count": 8,
      "outputs": []
    },
    {
      "cell_type": "markdown",
      "metadata": {
        "id": "DViXAFRzK_do"
      },
      "source": [
        "# RUNNER CODE"
      ]
    },
    {
      "cell_type": "code",
      "metadata": {
        "colab": {
          "base_uri": "https://localhost:8080/"
        },
        "id": "GNaIIDU_KMnL",
        "outputId": "9b99fa79-b04d-4501-cccb-707eb59be7b9"
      },
      "source": [
        "# MAIN RUNNER\n",
        "if __name__ == \"__main__\":\n",
        "\n",
        "    # get train, validation, test splits\n",
        "    X_train, X_validation, X_test, y_train, y_validation, y_test = prepare_datasets(0.2, 0.2)\n",
        "\n",
        "    # create network\n",
        "    input_shape = (X_train.shape[1], X_train.shape[2], 1)\n",
        "    model = build_model(input_shape)\n",
        "\n",
        "    # compile model\n",
        "    optimiser = keras.optimizers.Adam(learning_rate=0.0001)\n",
        "    model.compile(optimizer=optimiser,\n",
        "                  loss='sparse_categorical_crossentropy',\n",
        "                  metrics=['accuracy'])\n",
        "\n",
        "    model.summary()\n",
        "\n",
        "    # train model\n",
        "    history = model.fit(X_train, y_train, validation_data=(X_validation, y_validation), batch_size=32, epochs=150)"
      ],
      "execution_count": 9,
      "outputs": [
        {
          "output_type": "stream",
          "text": [
            "Model: \"sequential\"\n",
            "_________________________________________________________________\n",
            "Layer (type)                 Output Shape              Param #   \n",
            "=================================================================\n",
            "conv2d (Conv2D)              (None, 128, 11, 32)       320       \n",
            "_________________________________________________________________\n",
            "max_pooling2d (MaxPooling2D) (None, 64, 6, 32)         0         \n",
            "_________________________________________________________________\n",
            "batch_normalization (BatchNo (None, 64, 6, 32)         128       \n",
            "_________________________________________________________________\n",
            "dropout (Dropout)            (None, 64, 6, 32)         0         \n",
            "_________________________________________________________________\n",
            "conv2d_1 (Conv2D)            (None, 62, 4, 32)         9248      \n",
            "_________________________________________________________________\n",
            "max_pooling2d_1 (MaxPooling2 (None, 31, 2, 32)         0         \n",
            "_________________________________________________________________\n",
            "batch_normalization_1 (Batch (None, 31, 2, 32)         128       \n",
            "_________________________________________________________________\n",
            "dropout_1 (Dropout)          (None, 31, 2, 32)         0         \n",
            "_________________________________________________________________\n",
            "conv2d_2 (Conv2D)            (None, 30, 1, 32)         4128      \n",
            "_________________________________________________________________\n",
            "max_pooling2d_2 (MaxPooling2 (None, 15, 1, 32)         0         \n",
            "_________________________________________________________________\n",
            "batch_normalization_2 (Batch (None, 15, 1, 32)         128       \n",
            "_________________________________________________________________\n",
            "dropout_2 (Dropout)          (None, 15, 1, 32)         0         \n",
            "_________________________________________________________________\n",
            "flatten (Flatten)            (None, 480)               0         \n",
            "_________________________________________________________________\n",
            "dense (Dense)                (None, 64)                30784     \n",
            "_________________________________________________________________\n",
            "dropout_3 (Dropout)          (None, 64)                0         \n",
            "_________________________________________________________________\n",
            "dense_1 (Dense)              (None, 10)                650       \n",
            "=================================================================\n",
            "Total params: 45,514\n",
            "Trainable params: 45,322\n",
            "Non-trainable params: 192\n",
            "_________________________________________________________________\n",
            "Epoch 1/150\n",
            "200/200 [==============================] - 3s 7ms/step - loss: 2.6976 - accuracy: 0.1570 - val_loss: 1.9631 - val_accuracy: 0.2816\n",
            "Epoch 2/150\n",
            "200/200 [==============================] - 1s 5ms/step - loss: 2.0316 - accuracy: 0.2973 - val_loss: 1.9206 - val_accuracy: 0.3079\n",
            "Epoch 3/150\n",
            "200/200 [==============================] - 1s 5ms/step - loss: 1.8224 - accuracy: 0.3523 - val_loss: 1.8230 - val_accuracy: 0.3367\n",
            "Epoch 4/150\n",
            "200/200 [==============================] - 1s 4ms/step - loss: 1.6523 - accuracy: 0.4088 - val_loss: 1.7376 - val_accuracy: 0.3586\n",
            "Epoch 5/150\n",
            "200/200 [==============================] - 1s 5ms/step - loss: 1.5357 - accuracy: 0.4490 - val_loss: 1.6833 - val_accuracy: 0.3786\n",
            "Epoch 6/150\n",
            "200/200 [==============================] - 1s 4ms/step - loss: 1.4874 - accuracy: 0.4548 - val_loss: 1.5450 - val_accuracy: 0.4412\n",
            "Epoch 7/150\n",
            "200/200 [==============================] - 1s 5ms/step - loss: 1.4032 - accuracy: 0.4877 - val_loss: 1.5168 - val_accuracy: 0.4524\n",
            "Epoch 8/150\n",
            "200/200 [==============================] - 1s 4ms/step - loss: 1.3132 - accuracy: 0.5268 - val_loss: 1.4596 - val_accuracy: 0.4687\n",
            "Epoch 9/150\n",
            "200/200 [==============================] - 1s 4ms/step - loss: 1.2666 - accuracy: 0.5327 - val_loss: 1.4730 - val_accuracy: 0.4681\n",
            "Epoch 10/150\n",
            "200/200 [==============================] - 1s 5ms/step - loss: 1.2808 - accuracy: 0.5131 - val_loss: 1.3860 - val_accuracy: 0.4869\n",
            "Epoch 11/150\n",
            "200/200 [==============================] - 1s 4ms/step - loss: 1.2471 - accuracy: 0.5479 - val_loss: 1.3769 - val_accuracy: 0.4887\n",
            "Epoch 12/150\n",
            "200/200 [==============================] - 1s 4ms/step - loss: 1.2061 - accuracy: 0.5593 - val_loss: 1.3792 - val_accuracy: 0.5050\n",
            "Epoch 13/150\n",
            "200/200 [==============================] - 1s 4ms/step - loss: 1.1873 - accuracy: 0.5742 - val_loss: 1.3655 - val_accuracy: 0.5094\n",
            "Epoch 14/150\n",
            "200/200 [==============================] - 1s 4ms/step - loss: 1.1629 - accuracy: 0.5711 - val_loss: 1.3186 - val_accuracy: 0.5200\n",
            "Epoch 15/150\n",
            "200/200 [==============================] - 1s 5ms/step - loss: 1.1357 - accuracy: 0.5940 - val_loss: 1.2825 - val_accuracy: 0.5294\n",
            "Epoch 16/150\n",
            "200/200 [==============================] - 1s 4ms/step - loss: 1.1113 - accuracy: 0.5926 - val_loss: 1.2745 - val_accuracy: 0.5369\n",
            "Epoch 17/150\n",
            "200/200 [==============================] - 1s 5ms/step - loss: 1.0984 - accuracy: 0.6092 - val_loss: 1.2682 - val_accuracy: 0.5394\n",
            "Epoch 18/150\n",
            "200/200 [==============================] - 1s 4ms/step - loss: 1.0428 - accuracy: 0.6224 - val_loss: 1.2579 - val_accuracy: 0.5394\n",
            "Epoch 19/150\n",
            "200/200 [==============================] - 1s 4ms/step - loss: 1.0409 - accuracy: 0.6225 - val_loss: 1.2677 - val_accuracy: 0.5382\n",
            "Epoch 20/150\n",
            "200/200 [==============================] - 1s 4ms/step - loss: 1.0460 - accuracy: 0.6276 - val_loss: 1.2457 - val_accuracy: 0.5438\n",
            "Epoch 21/150\n",
            "200/200 [==============================] - 1s 4ms/step - loss: 1.0175 - accuracy: 0.6269 - val_loss: 1.2330 - val_accuracy: 0.5607\n",
            "Epoch 22/150\n",
            "200/200 [==============================] - 1s 4ms/step - loss: 0.9936 - accuracy: 0.6344 - val_loss: 1.2573 - val_accuracy: 0.5501\n",
            "Epoch 23/150\n",
            "200/200 [==============================] - 1s 4ms/step - loss: 1.0061 - accuracy: 0.6378 - val_loss: 1.1563 - val_accuracy: 0.5889\n",
            "Epoch 24/150\n",
            "200/200 [==============================] - 1s 4ms/step - loss: 0.9532 - accuracy: 0.6521 - val_loss: 1.1593 - val_accuracy: 0.5826\n",
            "Epoch 25/150\n",
            "200/200 [==============================] - 1s 4ms/step - loss: 0.9708 - accuracy: 0.6427 - val_loss: 1.1887 - val_accuracy: 0.5820\n",
            "Epoch 26/150\n",
            "200/200 [==============================] - 1s 4ms/step - loss: 0.9286 - accuracy: 0.6613 - val_loss: 1.1242 - val_accuracy: 0.5995\n",
            "Epoch 27/150\n",
            "200/200 [==============================] - 1s 4ms/step - loss: 0.9094 - accuracy: 0.6780 - val_loss: 1.1008 - val_accuracy: 0.6064\n",
            "Epoch 28/150\n",
            "200/200 [==============================] - 1s 4ms/step - loss: 0.9364 - accuracy: 0.6738 - val_loss: 1.1072 - val_accuracy: 0.6001\n",
            "Epoch 29/150\n",
            "200/200 [==============================] - 1s 4ms/step - loss: 0.8969 - accuracy: 0.6786 - val_loss: 1.0915 - val_accuracy: 0.5964\n",
            "Epoch 30/150\n",
            "200/200 [==============================] - 1s 4ms/step - loss: 0.8674 - accuracy: 0.6980 - val_loss: 1.1026 - val_accuracy: 0.6145\n",
            "Epoch 31/150\n",
            "200/200 [==============================] - 1s 4ms/step - loss: 0.8951 - accuracy: 0.6772 - val_loss: 1.0679 - val_accuracy: 0.6252\n",
            "Epoch 32/150\n",
            "200/200 [==============================] - 1s 4ms/step - loss: 0.8880 - accuracy: 0.6785 - val_loss: 1.0490 - val_accuracy: 0.6170\n",
            "Epoch 33/150\n",
            "200/200 [==============================] - 1s 4ms/step - loss: 0.8810 - accuracy: 0.6834 - val_loss: 1.0469 - val_accuracy: 0.6195\n",
            "Epoch 34/150\n",
            "200/200 [==============================] - 1s 4ms/step - loss: 0.8798 - accuracy: 0.6835 - val_loss: 1.0263 - val_accuracy: 0.6214\n",
            "Epoch 35/150\n",
            "200/200 [==============================] - 1s 4ms/step - loss: 0.8364 - accuracy: 0.7073 - val_loss: 0.9787 - val_accuracy: 0.6458\n",
            "Epoch 36/150\n",
            "200/200 [==============================] - 1s 5ms/step - loss: 0.8308 - accuracy: 0.7135 - val_loss: 1.0376 - val_accuracy: 0.6302\n",
            "Epoch 37/150\n",
            "200/200 [==============================] - 1s 5ms/step - loss: 0.7929 - accuracy: 0.7261 - val_loss: 0.9916 - val_accuracy: 0.6427\n",
            "Epoch 38/150\n",
            "200/200 [==============================] - 1s 5ms/step - loss: 0.8091 - accuracy: 0.7162 - val_loss: 1.0119 - val_accuracy: 0.6402\n",
            "Epoch 39/150\n",
            "200/200 [==============================] - 1s 4ms/step - loss: 0.8040 - accuracy: 0.7186 - val_loss: 1.0037 - val_accuracy: 0.6446\n",
            "Epoch 40/150\n",
            "200/200 [==============================] - 1s 4ms/step - loss: 0.7848 - accuracy: 0.7161 - val_loss: 0.9356 - val_accuracy: 0.6665\n",
            "Epoch 41/150\n",
            "200/200 [==============================] - 1s 4ms/step - loss: 0.7686 - accuracy: 0.7371 - val_loss: 0.9760 - val_accuracy: 0.6477\n",
            "Epoch 42/150\n",
            "200/200 [==============================] - 1s 4ms/step - loss: 0.7999 - accuracy: 0.7154 - val_loss: 0.9730 - val_accuracy: 0.6527\n",
            "Epoch 43/150\n",
            "200/200 [==============================] - 1s 4ms/step - loss: 0.7618 - accuracy: 0.7312 - val_loss: 0.9224 - val_accuracy: 0.6708\n",
            "Epoch 44/150\n",
            "200/200 [==============================] - 1s 4ms/step - loss: 0.7476 - accuracy: 0.7314 - val_loss: 0.9563 - val_accuracy: 0.6596\n",
            "Epoch 45/150\n",
            "200/200 [==============================] - 1s 4ms/step - loss: 0.7489 - accuracy: 0.7289 - val_loss: 0.8917 - val_accuracy: 0.6852\n",
            "Epoch 46/150\n",
            "200/200 [==============================] - 1s 5ms/step - loss: 0.7516 - accuracy: 0.7348 - val_loss: 0.9395 - val_accuracy: 0.6683\n",
            "Epoch 47/150\n",
            "200/200 [==============================] - 1s 5ms/step - loss: 0.7131 - accuracy: 0.7422 - val_loss: 0.8834 - val_accuracy: 0.6746\n",
            "Epoch 48/150\n",
            "200/200 [==============================] - 1s 5ms/step - loss: 0.7151 - accuracy: 0.7456 - val_loss: 0.8738 - val_accuracy: 0.6840\n",
            "Epoch 49/150\n",
            "200/200 [==============================] - 1s 4ms/step - loss: 0.7232 - accuracy: 0.7489 - val_loss: 0.8826 - val_accuracy: 0.6840\n",
            "Epoch 50/150\n",
            "200/200 [==============================] - 1s 5ms/step - loss: 0.7114 - accuracy: 0.7512 - val_loss: 0.8629 - val_accuracy: 0.6927\n",
            "Epoch 51/150\n",
            "200/200 [==============================] - 1s 4ms/step - loss: 0.7226 - accuracy: 0.7416 - val_loss: 0.8609 - val_accuracy: 0.6934\n",
            "Epoch 52/150\n",
            "200/200 [==============================] - 1s 4ms/step - loss: 0.6869 - accuracy: 0.7544 - val_loss: 0.8524 - val_accuracy: 0.6990\n",
            "Epoch 53/150\n",
            "200/200 [==============================] - 1s 5ms/step - loss: 0.6737 - accuracy: 0.7570 - val_loss: 0.8419 - val_accuracy: 0.7021\n",
            "Epoch 54/150\n",
            "200/200 [==============================] - 1s 4ms/step - loss: 0.6834 - accuracy: 0.7648 - val_loss: 0.8465 - val_accuracy: 0.6971\n",
            "Epoch 55/150\n",
            "200/200 [==============================] - 1s 4ms/step - loss: 0.6943 - accuracy: 0.7447 - val_loss: 0.8606 - val_accuracy: 0.6877\n",
            "Epoch 56/150\n",
            "200/200 [==============================] - 1s 5ms/step - loss: 0.6764 - accuracy: 0.7554 - val_loss: 0.8098 - val_accuracy: 0.7128\n",
            "Epoch 57/150\n",
            "200/200 [==============================] - 1s 4ms/step - loss: 0.6643 - accuracy: 0.7591 - val_loss: 0.8149 - val_accuracy: 0.7065\n",
            "Epoch 58/150\n",
            "200/200 [==============================] - 1s 4ms/step - loss: 0.6652 - accuracy: 0.7579 - val_loss: 0.7928 - val_accuracy: 0.7178\n",
            "Epoch 59/150\n",
            "200/200 [==============================] - 1s 4ms/step - loss: 0.6695 - accuracy: 0.7530 - val_loss: 0.8216 - val_accuracy: 0.7071\n",
            "Epoch 60/150\n",
            "200/200 [==============================] - 1s 4ms/step - loss: 0.6686 - accuracy: 0.7637 - val_loss: 0.8080 - val_accuracy: 0.7171\n",
            "Epoch 61/150\n",
            "200/200 [==============================] - 1s 4ms/step - loss: 0.6537 - accuracy: 0.7690 - val_loss: 0.7922 - val_accuracy: 0.7171\n",
            "Epoch 62/150\n",
            "200/200 [==============================] - 1s 4ms/step - loss: 0.6515 - accuracy: 0.7668 - val_loss: 0.7919 - val_accuracy: 0.7084\n",
            "Epoch 63/150\n",
            "200/200 [==============================] - 1s 4ms/step - loss: 0.6400 - accuracy: 0.7663 - val_loss: 0.7323 - val_accuracy: 0.7378\n",
            "Epoch 64/150\n",
            "200/200 [==============================] - 1s 4ms/step - loss: 0.6519 - accuracy: 0.7678 - val_loss: 0.7788 - val_accuracy: 0.7222\n",
            "Epoch 65/150\n",
            "200/200 [==============================] - 1s 5ms/step - loss: 0.6306 - accuracy: 0.7824 - val_loss: 0.7588 - val_accuracy: 0.7278\n",
            "Epoch 66/150\n",
            "200/200 [==============================] - 1s 4ms/step - loss: 0.6365 - accuracy: 0.7842 - val_loss: 0.7845 - val_accuracy: 0.7278\n",
            "Epoch 67/150\n",
            "200/200 [==============================] - 1s 4ms/step - loss: 0.6006 - accuracy: 0.7887 - val_loss: 0.7252 - val_accuracy: 0.7453\n",
            "Epoch 68/150\n",
            "200/200 [==============================] - 1s 4ms/step - loss: 0.5950 - accuracy: 0.7770 - val_loss: 0.7546 - val_accuracy: 0.7340\n",
            "Epoch 69/150\n",
            "200/200 [==============================] - 1s 4ms/step - loss: 0.6168 - accuracy: 0.7799 - val_loss: 0.7590 - val_accuracy: 0.7303\n",
            "Epoch 70/150\n",
            "200/200 [==============================] - 1s 4ms/step - loss: 0.6223 - accuracy: 0.7770 - val_loss: 0.7166 - val_accuracy: 0.7441\n",
            "Epoch 71/150\n",
            "200/200 [==============================] - 1s 4ms/step - loss: 0.6081 - accuracy: 0.7856 - val_loss: 0.7458 - val_accuracy: 0.7397\n",
            "Epoch 72/150\n",
            "200/200 [==============================] - 1s 4ms/step - loss: 0.5949 - accuracy: 0.7929 - val_loss: 0.7227 - val_accuracy: 0.7484\n",
            "Epoch 73/150\n",
            "200/200 [==============================] - 1s 5ms/step - loss: 0.5914 - accuracy: 0.7926 - val_loss: 0.7249 - val_accuracy: 0.7340\n",
            "Epoch 74/150\n",
            "200/200 [==============================] - 1s 4ms/step - loss: 0.5942 - accuracy: 0.7876 - val_loss: 0.7180 - val_accuracy: 0.7484\n",
            "Epoch 75/150\n",
            "200/200 [==============================] - 1s 4ms/step - loss: 0.5977 - accuracy: 0.7804 - val_loss: 0.7098 - val_accuracy: 0.7459\n",
            "Epoch 76/150\n",
            "200/200 [==============================] - 1s 4ms/step - loss: 0.5580 - accuracy: 0.8042 - val_loss: 0.6826 - val_accuracy: 0.7597\n",
            "Epoch 77/150\n",
            "200/200 [==============================] - 1s 4ms/step - loss: 0.5544 - accuracy: 0.8018 - val_loss: 0.6956 - val_accuracy: 0.7559\n",
            "Epoch 78/150\n",
            "200/200 [==============================] - 1s 4ms/step - loss: 0.5675 - accuracy: 0.7931 - val_loss: 0.6897 - val_accuracy: 0.7572\n",
            "Epoch 79/150\n",
            "200/200 [==============================] - 1s 4ms/step - loss: 0.5582 - accuracy: 0.8007 - val_loss: 0.6927 - val_accuracy: 0.7566\n",
            "Epoch 80/150\n",
            "200/200 [==============================] - 1s 4ms/step - loss: 0.5383 - accuracy: 0.8103 - val_loss: 0.6948 - val_accuracy: 0.7534\n",
            "Epoch 81/150\n",
            "200/200 [==============================] - 1s 5ms/step - loss: 0.5366 - accuracy: 0.8115 - val_loss: 0.6728 - val_accuracy: 0.7616\n",
            "Epoch 82/150\n",
            "200/200 [==============================] - 1s 4ms/step - loss: 0.5502 - accuracy: 0.8006 - val_loss: 0.6785 - val_accuracy: 0.7591\n",
            "Epoch 83/150\n",
            "200/200 [==============================] - 1s 4ms/step - loss: 0.5465 - accuracy: 0.8069 - val_loss: 0.7144 - val_accuracy: 0.7503\n",
            "Epoch 84/150\n",
            "200/200 [==============================] - 1s 5ms/step - loss: 0.5332 - accuracy: 0.8139 - val_loss: 0.6994 - val_accuracy: 0.7534\n",
            "Epoch 85/150\n",
            "200/200 [==============================] - 1s 5ms/step - loss: 0.5270 - accuracy: 0.8106 - val_loss: 0.6747 - val_accuracy: 0.7678\n",
            "Epoch 86/150\n",
            "200/200 [==============================] - 1s 5ms/step - loss: 0.5199 - accuracy: 0.8053 - val_loss: 0.7075 - val_accuracy: 0.7553\n",
            "Epoch 87/150\n",
            "200/200 [==============================] - 1s 4ms/step - loss: 0.5226 - accuracy: 0.8191 - val_loss: 0.6442 - val_accuracy: 0.7735\n",
            "Epoch 88/150\n",
            "200/200 [==============================] - 1s 5ms/step - loss: 0.5299 - accuracy: 0.8099 - val_loss: 0.6781 - val_accuracy: 0.7635\n",
            "Epoch 89/150\n",
            "200/200 [==============================] - 1s 5ms/step - loss: 0.5169 - accuracy: 0.8183 - val_loss: 0.6879 - val_accuracy: 0.7616\n",
            "Epoch 90/150\n",
            "200/200 [==============================] - 1s 4ms/step - loss: 0.5038 - accuracy: 0.8296 - val_loss: 0.6786 - val_accuracy: 0.7628\n",
            "Epoch 91/150\n",
            "200/200 [==============================] - 1s 4ms/step - loss: 0.5326 - accuracy: 0.8110 - val_loss: 0.6634 - val_accuracy: 0.7747\n",
            "Epoch 92/150\n",
            "200/200 [==============================] - 1s 4ms/step - loss: 0.5064 - accuracy: 0.8213 - val_loss: 0.6668 - val_accuracy: 0.7672\n",
            "Epoch 93/150\n",
            "200/200 [==============================] - 1s 4ms/step - loss: 0.5288 - accuracy: 0.8135 - val_loss: 0.6715 - val_accuracy: 0.7697\n",
            "Epoch 94/150\n",
            "200/200 [==============================] - 1s 5ms/step - loss: 0.5298 - accuracy: 0.8082 - val_loss: 0.6919 - val_accuracy: 0.7622\n",
            "Epoch 95/150\n",
            "200/200 [==============================] - 1s 5ms/step - loss: 0.4979 - accuracy: 0.8200 - val_loss: 0.6402 - val_accuracy: 0.7753\n",
            "Epoch 96/150\n",
            "200/200 [==============================] - 1s 5ms/step - loss: 0.4901 - accuracy: 0.8266 - val_loss: 0.6576 - val_accuracy: 0.7703\n",
            "Epoch 97/150\n",
            "200/200 [==============================] - 1s 4ms/step - loss: 0.5034 - accuracy: 0.8249 - val_loss: 0.6574 - val_accuracy: 0.7785\n",
            "Epoch 98/150\n",
            "200/200 [==============================] - 1s 4ms/step - loss: 0.4791 - accuracy: 0.8300 - val_loss: 0.6580 - val_accuracy: 0.7741\n",
            "Epoch 99/150\n",
            "200/200 [==============================] - 1s 4ms/step - loss: 0.4487 - accuracy: 0.8415 - val_loss: 0.6491 - val_accuracy: 0.7785\n",
            "Epoch 100/150\n",
            "200/200 [==============================] - 1s 4ms/step - loss: 0.4903 - accuracy: 0.8216 - val_loss: 0.6333 - val_accuracy: 0.7822\n",
            "Epoch 101/150\n",
            "200/200 [==============================] - 1s 5ms/step - loss: 0.4664 - accuracy: 0.8395 - val_loss: 0.6760 - val_accuracy: 0.7697\n",
            "Epoch 102/150\n",
            "200/200 [==============================] - 1s 4ms/step - loss: 0.4943 - accuracy: 0.8281 - val_loss: 0.6386 - val_accuracy: 0.7753\n",
            "Epoch 103/150\n",
            "200/200 [==============================] - 1s 4ms/step - loss: 0.4750 - accuracy: 0.8394 - val_loss: 0.6223 - val_accuracy: 0.7854\n",
            "Epoch 104/150\n",
            "200/200 [==============================] - 1s 4ms/step - loss: 0.4582 - accuracy: 0.8332 - val_loss: 0.6375 - val_accuracy: 0.7810\n",
            "Epoch 105/150\n",
            "200/200 [==============================] - 1s 5ms/step - loss: 0.4748 - accuracy: 0.8259 - val_loss: 0.6606 - val_accuracy: 0.7735\n",
            "Epoch 106/150\n",
            "200/200 [==============================] - 1s 4ms/step - loss: 0.4612 - accuracy: 0.8329 - val_loss: 0.6587 - val_accuracy: 0.7722\n",
            "Epoch 107/150\n",
            "200/200 [==============================] - 1s 4ms/step - loss: 0.4805 - accuracy: 0.8293 - val_loss: 0.6226 - val_accuracy: 0.7785\n",
            "Epoch 108/150\n",
            "200/200 [==============================] - 1s 4ms/step - loss: 0.4720 - accuracy: 0.8284 - val_loss: 0.6350 - val_accuracy: 0.7797\n",
            "Epoch 109/150\n",
            "200/200 [==============================] - 1s 4ms/step - loss: 0.4647 - accuracy: 0.8345 - val_loss: 0.6315 - val_accuracy: 0.7797\n",
            "Epoch 110/150\n",
            "200/200 [==============================] - 1s 4ms/step - loss: 0.4622 - accuracy: 0.8434 - val_loss: 0.6370 - val_accuracy: 0.7816\n",
            "Epoch 111/150\n",
            "200/200 [==============================] - 1s 4ms/step - loss: 0.4386 - accuracy: 0.8475 - val_loss: 0.6515 - val_accuracy: 0.7710\n",
            "Epoch 112/150\n",
            "200/200 [==============================] - 1s 4ms/step - loss: 0.4467 - accuracy: 0.8457 - val_loss: 0.6515 - val_accuracy: 0.7722\n",
            "Epoch 113/150\n",
            "200/200 [==============================] - 1s 4ms/step - loss: 0.4443 - accuracy: 0.8466 - val_loss: 0.6677 - val_accuracy: 0.7766\n",
            "Epoch 114/150\n",
            "200/200 [==============================] - 1s 5ms/step - loss: 0.4330 - accuracy: 0.8484 - val_loss: 0.6451 - val_accuracy: 0.7766\n",
            "Epoch 115/150\n",
            "200/200 [==============================] - 1s 5ms/step - loss: 0.4387 - accuracy: 0.8424 - val_loss: 0.6382 - val_accuracy: 0.7747\n",
            "Epoch 116/150\n",
            "200/200 [==============================] - 1s 4ms/step - loss: 0.4189 - accuracy: 0.8490 - val_loss: 0.6161 - val_accuracy: 0.7822\n",
            "Epoch 117/150\n",
            "200/200 [==============================] - 1s 4ms/step - loss: 0.4289 - accuracy: 0.8507 - val_loss: 0.6394 - val_accuracy: 0.7772\n",
            "Epoch 118/150\n",
            "200/200 [==============================] - 1s 4ms/step - loss: 0.4129 - accuracy: 0.8505 - val_loss: 0.6194 - val_accuracy: 0.7822\n",
            "Epoch 119/150\n",
            "200/200 [==============================] - 1s 4ms/step - loss: 0.4377 - accuracy: 0.8413 - val_loss: 0.6336 - val_accuracy: 0.7735\n",
            "Epoch 120/150\n",
            "200/200 [==============================] - 1s 4ms/step - loss: 0.4279 - accuracy: 0.8473 - val_loss: 0.6483 - val_accuracy: 0.7716\n",
            "Epoch 121/150\n",
            "200/200 [==============================] - 1s 4ms/step - loss: 0.4404 - accuracy: 0.8444 - val_loss: 0.6133 - val_accuracy: 0.7829\n",
            "Epoch 122/150\n",
            "200/200 [==============================] - 1s 4ms/step - loss: 0.4422 - accuracy: 0.8482 - val_loss: 0.6572 - val_accuracy: 0.7697\n",
            "Epoch 123/150\n",
            "200/200 [==============================] - 1s 4ms/step - loss: 0.4329 - accuracy: 0.8514 - val_loss: 0.6128 - val_accuracy: 0.7885\n",
            "Epoch 124/150\n",
            "200/200 [==============================] - 1s 4ms/step - loss: 0.4027 - accuracy: 0.8576 - val_loss: 0.6375 - val_accuracy: 0.7785\n",
            "Epoch 125/150\n",
            "200/200 [==============================] - 1s 4ms/step - loss: 0.4054 - accuracy: 0.8553 - val_loss: 0.6332 - val_accuracy: 0.7785\n",
            "Epoch 126/150\n",
            "200/200 [==============================] - 1s 4ms/step - loss: 0.4014 - accuracy: 0.8583 - val_loss: 0.6348 - val_accuracy: 0.7747\n",
            "Epoch 127/150\n",
            "200/200 [==============================] - 1s 5ms/step - loss: 0.4189 - accuracy: 0.8520 - val_loss: 0.6182 - val_accuracy: 0.7797\n",
            "Epoch 128/150\n",
            "200/200 [==============================] - 1s 5ms/step - loss: 0.4037 - accuracy: 0.8581 - val_loss: 0.6297 - val_accuracy: 0.7822\n",
            "Epoch 129/150\n",
            "200/200 [==============================] - 1s 5ms/step - loss: 0.4195 - accuracy: 0.8482 - val_loss: 0.6326 - val_accuracy: 0.7778\n",
            "Epoch 130/150\n",
            "200/200 [==============================] - 1s 5ms/step - loss: 0.3852 - accuracy: 0.8659 - val_loss: 0.6170 - val_accuracy: 0.7816\n",
            "Epoch 131/150\n",
            "200/200 [==============================] - 1s 5ms/step - loss: 0.3977 - accuracy: 0.8553 - val_loss: 0.6584 - val_accuracy: 0.7772\n",
            "Epoch 132/150\n",
            "200/200 [==============================] - 1s 5ms/step - loss: 0.4010 - accuracy: 0.8606 - val_loss: 0.6337 - val_accuracy: 0.7797\n",
            "Epoch 133/150\n",
            "200/200 [==============================] - 1s 5ms/step - loss: 0.4090 - accuracy: 0.8526 - val_loss: 0.6264 - val_accuracy: 0.7922\n",
            "Epoch 134/150\n",
            "200/200 [==============================] - 1s 5ms/step - loss: 0.4008 - accuracy: 0.8540 - val_loss: 0.6109 - val_accuracy: 0.7847\n",
            "Epoch 135/150\n",
            "200/200 [==============================] - 1s 5ms/step - loss: 0.3941 - accuracy: 0.8564 - val_loss: 0.6255 - val_accuracy: 0.7804\n",
            "Epoch 136/150\n",
            "200/200 [==============================] - 1s 5ms/step - loss: 0.4069 - accuracy: 0.8524 - val_loss: 0.6111 - val_accuracy: 0.7897\n",
            "Epoch 137/150\n",
            "200/200 [==============================] - 1s 5ms/step - loss: 0.3761 - accuracy: 0.8675 - val_loss: 0.6326 - val_accuracy: 0.7791\n",
            "Epoch 138/150\n",
            "200/200 [==============================] - 1s 5ms/step - loss: 0.3780 - accuracy: 0.8632 - val_loss: 0.6129 - val_accuracy: 0.7860\n",
            "Epoch 139/150\n",
            "200/200 [==============================] - 1s 5ms/step - loss: 0.3711 - accuracy: 0.8678 - val_loss: 0.6010 - val_accuracy: 0.7897\n",
            "Epoch 140/150\n",
            "200/200 [==============================] - 1s 4ms/step - loss: 0.3929 - accuracy: 0.8521 - val_loss: 0.5913 - val_accuracy: 0.7947\n",
            "Epoch 141/150\n",
            "200/200 [==============================] - 1s 4ms/step - loss: 0.4038 - accuracy: 0.8538 - val_loss: 0.6038 - val_accuracy: 0.7960\n",
            "Epoch 142/150\n",
            "200/200 [==============================] - 1s 4ms/step - loss: 0.3820 - accuracy: 0.8643 - val_loss: 0.6177 - val_accuracy: 0.7910\n",
            "Epoch 143/150\n",
            "200/200 [==============================] - 1s 4ms/step - loss: 0.3603 - accuracy: 0.8645 - val_loss: 0.6054 - val_accuracy: 0.7879\n",
            "Epoch 144/150\n",
            "200/200 [==============================] - 1s 4ms/step - loss: 0.3744 - accuracy: 0.8688 - val_loss: 0.6034 - val_accuracy: 0.7854\n",
            "Epoch 145/150\n",
            "200/200 [==============================] - 1s 4ms/step - loss: 0.3620 - accuracy: 0.8723 - val_loss: 0.5985 - val_accuracy: 0.7910\n",
            "Epoch 146/150\n",
            "200/200 [==============================] - 1s 4ms/step - loss: 0.3822 - accuracy: 0.8595 - val_loss: 0.5944 - val_accuracy: 0.7947\n",
            "Epoch 147/150\n",
            "200/200 [==============================] - 1s 4ms/step - loss: 0.3703 - accuracy: 0.8702 - val_loss: 0.6097 - val_accuracy: 0.7885\n",
            "Epoch 148/150\n",
            "200/200 [==============================] - 1s 5ms/step - loss: 0.3597 - accuracy: 0.8749 - val_loss: 0.6145 - val_accuracy: 0.7854\n",
            "Epoch 149/150\n",
            "200/200 [==============================] - 1s 5ms/step - loss: 0.3583 - accuracy: 0.8717 - val_loss: 0.6193 - val_accuracy: 0.7835\n",
            "Epoch 150/150\n",
            "200/200 [==============================] - 1s 4ms/step - loss: 0.3700 - accuracy: 0.8689 - val_loss: 0.6042 - val_accuracy: 0.7960\n"
          ],
          "name": "stdout"
        }
      ]
    },
    {
      "cell_type": "markdown",
      "metadata": {
        "id": "u_DWD_i5223g"
      },
      "source": [
        "# Model Prediction"
      ]
    },
    {
      "cell_type": "code",
      "metadata": {
        "colab": {
          "base_uri": "https://localhost:8080/",
          "height": 641
        },
        "id": "hYW0DB2Qpwx1",
        "outputId": "4b803f9c-8607-4ff9-81fe-fb87cb3d3930"
      },
      "source": [
        "# plot accuracy/error for training and validation\n",
        "plot_history(history)\n",
        "\n",
        "# evaluate model on test set\n",
        "test_loss, test_acc = model.evaluate(X_test, y_test, verbose=1)\n",
        "print('\\nTest accuracy:', test_acc)"
      ],
      "execution_count": 10,
      "outputs": [
        {
          "output_type": "display_data",
          "data": {
            "image/png": "[encoded data removed]",
            "text/plain": [
              "<Figure size 720x720 with 2 Axes>"
            ]
          },
          "metadata": {
            "tags": [],
            "needs_background": "light"
          }
        },
        {
          "output_type": "display_data",
          "data": {
            "image/png": "[encoded data removed]",
            "text/plain": [
              "<Figure size 432x288 with 2 Axes>"
            ]
          },
          "metadata": {
            "tags": [],
            "needs_background": "light"
          }
        },
        {
          "output_type": "stream",
          "text": [
            "63/63 [==============================] - 0s 3ms/step - loss: 0.6270 - accuracy: 0.8038\n",
            "\n",
            "Test accuracy: 0.8038038015365601\n"
          ],
          "name": "stdout"
        }
      ]
    },
    {
      "cell_type": "markdown",
      "metadata": {
        "id": "qxv8XzKd2tK-"
      },
      "source": [
        "## Confusion Matrix"
      ]
    },
    {
      "cell_type": "code",
      "metadata": {
        "colab": {
          "base_uri": "https://localhost:8080/"
        },
        "id": "Cdq8h7nYuiqr",
        "outputId": "1096fbe7-735c-44ed-d701-89abd957275a"
      },
      "source": [
        "import tensorflow as tf\n",
        "from sklearn.metrics import confusion_matrix, accuracy_score\n",
        "y_predicted = model.predict(X_test)\n",
        "y_predicted_labels = [np.argmax(i) for i in y_predicted]\n",
        "cm = tf.math.confusion_matrix(labels=y_test,predictions=y_predicted_labels)\n",
        "print(\"Accuracy in Test Data : \", accuracy_score(y_test, y_predicted_labels))"
      ],
      "execution_count": 11,
      "outputs": [
        {
          "output_type": "stream",
          "text": [
            "Accuracy in Test Data :  0.8038038038038038\n"
          ],
          "name": "stdout"
        }
      ]
    },
    {
      "cell_type": "markdown",
      "metadata": {
        "id": "3IEZ-9Ds4aVM"
      },
      "source": [
        "## Sample data predict"
      ]
    },
    {
      "cell_type": "code",
      "metadata": {
        "colab": {
          "base_uri": "https://localhost:8080/",
          "height": 459
        },
        "id": "JP-szz7G1DMG",
        "outputId": "1935ab63-9269-4f1a-94eb-c473be3e969b"
      },
      "source": [
        "import seaborn as sn\n",
        "plt.figure(figsize = (10,7))\n",
        "sn.heatmap(cm, annot=True, fmt='d')\n",
        "plt.xlabel('Predicted')\n",
        "plt.ylabel('Truth')"
      ],
      "execution_count": 12,
      "outputs": [
        {
          "output_type": "execute_result",
          "data": {
            "text/plain": [
              "Text(69.0, 0.5, 'Truth')"
            ]
          },
          "metadata": {
            "tags": []
          },
          "execution_count": 12
        },
        {
          "output_type": "display_data",
          "data": {
            "image/png": "[encoded data removed]",
            "text/plain": [
              "<Figure size 720x504 with 2 Axes>"
            ]
          },
          "metadata": {
            "tags": [],
            "needs_background": "light"
          }
        }
      ]
    },
    {
      "cell_type": "code",
      "metadata": {
        "id": "zy_O2W9crXUo",
        "colab": {
          "base_uri": "https://localhost:8080/"
        },
        "outputId": "a3c82a7f-30d6-4795-f14d-e5ee1e22653c"
      },
      "source": [
        "# pick a sample to predict from the test set\r\n",
        "X_to_predict = X_test[100]\r\n",
        "y_to_predict = y_test[100]\r\n",
        "\r\n",
        "# predict sample\r\n",
        "predict(model, X_to_predict, y_to_predict)"
      ],
      "execution_count": 13,
      "outputs": [
        {
          "output_type": "stream",
          "text": [
            "Target: 4, Predicted label: [4]\n",
            "Target: HIPHOP, Predicted Index: HIPHOP\n"
          ],
          "name": "stdout"
        }
      ]
    }
  ]
}