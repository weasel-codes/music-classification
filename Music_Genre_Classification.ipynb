{
  "nbformat": 4,
  "nbformat_minor": 0,
  "metadata": {
    "colab": {
      "name": "Music-Genre-Classification.ipynb",
      "provenance": [],
      "collapsed_sections": [],
      "mount_file_id": "1unrXBTlvjiA_OFVpjSVqAg2aO_Ujoe9k",
      "authorship_tag": "ABX9TyMLKYPt1RXrUR/kI7vRUI7H",
      "include_colab_link": true
    },
    "kernelspec": {
      "name": "python3",
      "display_name": "Python 3"
    }
  },
  "cells": [
    {
      "cell_type": "markdown",
      "metadata": {
        "id": "view-in-github",
        "colab_type": "text"
      },
      "source": [
        "<a href=\"https://colab.research.google.com/github/weasel-codes/music-classification/blob/main/Music_Genre_Classification.ipynb\" target=\"_parent\"><img src=\"https://colab.research.google.com/assets/colab-badge.svg\" alt=\"Open In Colab\"/></a>"
      ]
    },
    {
      "cell_type": "markdown",
      "metadata": {
        "id": "E2E7jylWWhuN"
      },
      "source": [
        "# DATASET CREATION\n",
        "\n"
      ]
    },
    {
      "cell_type": "markdown",
      "metadata": {
        "id": "KheYN2jH6tw5"
      },
      "source": [
        "Extracts MFCCs from music dataset and saves them into a json file along with genre labels.\n",
        "\n",
        "Different variables used here are :\n",
        "\n",
        "    :param dataset_path (str): Path to dataset\n",
        "\n",
        "    :param json_path (str): Path to json file used to save MFCCs\n",
        "\n",
        "    :param num_mfcc (int): Number of coefficients to extract\n",
        "    \n",
        "    :param n_fft (int): Interval we consider to apply FFT. Measured in # of samples\n",
        "\n",
        "    :param hop_length (int): Sliding window for FFT. Measured in # of samples\n",
        "\n",
        "    :param: num_segments (int): Number of segments we want to divide sample tracks into\n"
      ]
    },
    {
      "cell_type": "code",
      "metadata": {
        "id": "UotaDdYf5Du8"
      },
      "source": [
        "# LIBRARIES\n",
        "import json\n",
        "import os\n",
        "import math\n",
        "import librosa"
      ],
      "execution_count": 1,
      "outputs": []
    },
    {
      "cell_type": "code",
      "metadata": {
        "id": "oJ3w8-Fc5Qdc"
      },
      "source": [
        "#CONSTANTS\n",
        "DATASET_PATH = \"/content/drive/MyDrive/ML/songs\"\n",
        "JSON_PATH = \"/content/drive/MyDrive/ML/MFCC.json\"\n",
        "\n",
        "SAMPLE_RATE = 22050\n",
        "TRACK_DURATION = 30 # measured in seconds\n",
        "SAMPLES_PER_TRACK = SAMPLE_RATE * TRACK_DURATION # TOTAL samples from a track\n"
      ],
      "execution_count": null,
      "outputs": []
    },
    {
      "cell_type": "code",
      "metadata": {
        "id": "KleCk1HN5cAm"
      },
      "source": [
        "# PROCESS EACH SEGMENT OF AUDIO FILE SEPERATELY\n",
        "def processEachSegmentOfFile(segment_num, data, file_path, curr_signal, sample_rate, num_mfcc, \n",
        "                             n_fft, hop_length, num_mfcc_vectors_per_segment, label_index):\n",
        "    try :\n",
        "      mfcc = librosa.feature.mfcc(curr_signal, sample_rate, n_mfcc=num_mfcc, n_fft=n_fft, hop_length=hop_length) # EXTRACT MFCC\n",
        "      mfcc = mfcc.T\n",
        "      if len(mfcc) == num_mfcc_vectors_per_segment:     # store only mfcc feature with expected number of vectors\n",
        "          data[\"mfcc\"].append(mfcc.tolist())\n",
        "          data[\"labels\"].append(label_index)\n",
        " \n",
        "    except Exception as e:\n",
        "          print(\"ERROR : {}, segment:{}\".format(file_path, segment_num+1))"
      ],
      "execution_count": null,
      "outputs": []
    },
    {
      "cell_type": "code",
      "metadata": {
        "id": "DmsiqsJh5B1m"
      },
      "source": [
        "# PROCESS EACH AUDIO FILES SEPARATELY\n",
        "def processEachAudioFile(data, dirpath, file_name, num_segments, samples_per_segment, \n",
        "                         num_mfcc, n_fft, hop_length, num_mfcc_vectors_per_segment, label_index) :\n",
        "\n",
        "    file_path = os.path.join(dirpath, file_name)  # load audio file from FULL PATH + FILE NAME\n",
        "    print(\"Processing file... : \", file_path)\n",
        "    signal, sample_rate = librosa.load(file_path, sr=SAMPLE_RATE)\n",
        "\n",
        "    for d in range(num_segments):             #process all segments of audio file : DIVIDED one file into MULTIPLE SEGMENTS\n",
        "        \n",
        "        start = samples_per_segment * d       #Start time of current segment\n",
        "        finish = start + samples_per_segment  #Finish Time of segment\n",
        "        curr_signal = signal[start:finish]    #Extract required samples out of signal\n",
        "\n",
        "        processEachSegmentOfFile(d, data, file_path, curr_signal, sample_rate, num_mfcc, n_fft, \n",
        "                                 hop_length, num_mfcc_vectors_per_segment, label_index)"
      ],
      "execution_count": null,
      "outputs": []
    },
    {
      "cell_type": "code",
      "metadata": {
        "id": "AkalPIn789I5"
      },
      "source": [
        "# SAVE MFCC-INFO CARRYING DATA-JSON TO A FILE ON DRIVE\n",
        "def saveDataToJson(data):\n",
        "    with open(JSON_PATH, \"w\") as fp:\n",
        "        json.dump(data, fp, indent=4)"
      ],
      "execution_count": null,
      "outputs": []
    },
    {
      "cell_type": "code",
      "metadata": {
        "id": "j4bCkvLEWkik"
      },
      "source": [
        "# Dictionary to store mapping, labels, and MFCCs\n",
        "data = {\n",
        "    \"mapping\": [],  #Relate to labels\n",
        "    \"labels\": [],   #Output\n",
        "    \"mfcc\": []      #Training Input\n",
        "}\n",
        "\n",
        "# PROCESS EACH GENRE\n",
        "def save_mfcc(num_mfcc, n_fft, hop_length, num_segments):\n",
        "    samples_per_segment = int(SAMPLES_PER_TRACK / num_segments)\n",
        "    num_mfcc_vectors_per_segment = math.ceil(samples_per_segment / hop_length)\n",
        "\n",
        "    # dirpath : folder we are currently in, dirnames : sub-folders or genre, filenames : each file of a genre\n",
        "    for i, (dirpath, dirnames, filenames) in enumerate(os.walk(DATASET_PATH)): # loop through all genre sub-folder\n",
        "\n",
        "        label_index = i-1\n",
        "        # ensure we're processing a genre sub-folder level : to make sure we are inside some genre : genre level and not dataset level\n",
        "        if dirpath is not DATASET_PATH:\n",
        "\n",
        "            # save genre label (i.e., sub-folder name) in the mapping\n",
        "            semantic_label = dirpath.split(\"/\")[-1]\n",
        "            data[\"mapping\"].append(semantic_label) # No need if we already know what all labels we have\n",
        "            print(\"\\nProcessing: {}\".format(semantic_label))\n",
        "\n",
        "            for file_name in filenames: # Procesing each file\n",
        "                processEachAudioFile(data, dirpath, file_name, num_segments, samples_per_segment, \n",
        "                                     num_mfcc, n_fft, hop_length, num_mfcc_vectors_per_segment, label_index)\n",
        "\n",
        "    saveDataToJson(data)"
      ],
      "execution_count": null,
      "outputs": []
    },
    {
      "cell_type": "code",
      "metadata": {
        "id": "xPEV8fog9uNP"
      },
      "source": [
        "if __name__ == \"__main__\":\n",
        "    num_mfcc=13\n",
        "    n_fft=2048\n",
        "    hop_length=512\n",
        "    num_segments=10\n",
        "    save_mfcc(num_mfcc, n_fft, hop_length, num_segments)"
      ],
      "execution_count": null,
      "outputs": []
    },
    {
      "cell_type": "markdown",
      "metadata": {
        "id": "_Ap0yu19BwW6"
      },
      "source": [
        "# Pre-Processing"
      ]
    },
    {
      "cell_type": "code",
      "metadata": {
        "id": "v_NFponBC2n6"
      },
      "source": [
        "import numpy as np\n",
        "from sklearn.model_selection import train_test_split\n",
        "import tensorflow.keras as keras\n",
        "import matplotlib.pyplot as plt"
      ],
      "execution_count": 8,
      "outputs": []
    },
    {
      "cell_type": "code",
      "metadata": {
        "id": "CmtPlhIDDGAh"
      },
      "source": [
        "DATA_PATH = \"/content/drive/MyDrive/ML/MFCC.json\""
      ],
      "execution_count": 9,
      "outputs": []
    },
    {
      "cell_type": "code",
      "metadata": {
        "id": "bIpHrM9qDbb2"
      },
      "source": [
        "# LOAD JSON DATASET\n",
        "def load_data(data_path):\n",
        "    with open(data_path, \"r\") as fp:\n",
        "        data = json.load(fp)\n",
        "\n",
        "    X = np.array(data[\"mfcc\"])\n",
        "    y = np.array(data[\"labels\"])\n",
        "    return X, y # TARGET AND INPUT"
      ],
      "execution_count": 10,
      "outputs": []
    },
    {
      "cell_type": "code",
      "metadata": {
        "id": "sWLsFWkaFUgt"
      },
      "source": [
        "# GENERATE TEST, VALIDATION AND TRAIN SET\n",
        "def prepare_datasets(test_size, validation_size):\n",
        "    # load data\n",
        "    X, Y = load_data(DATA_PATH)\n",
        "\n",
        "    X_train, X_test, y_train, y_test = train_test_split(X, Y, test_size=test_size)\n",
        "    X_train, X_validation, y_train, y_validation = train_test_split(X_train, y_train, test_size=validation_size)\n",
        "\n",
        "    # add an axis/new_col to input sets\n",
        "    X_train = X_train[..., np.newaxis]\n",
        "    X_validation = X_validation[..., np.newaxis]\n",
        "    X_test = X_test[..., np.newaxis]\n",
        "\n",
        "    return X_train, X_validation, X_test, y_train, y_validation, y_test"
      ],
      "execution_count": 11,
      "outputs": []
    },
    {
      "cell_type": "code",
      "metadata": {
        "id": "xNBKkW1BD1H3"
      },
      "source": [
        "# PLOT ACCURACY/LOSS FOR TRAINING/VALIDATION SET USING NO_OF_EPOCHS\n",
        "def plot_history(history): # Training history of model\n",
        "    fig, axs = plt.subplots(2)\n",
        "    # create accuracy sublpot\n",
        "    axs[0].plot(history.history[\"accuracy\"], label=\"train accuracy\")\n",
        "    axs[0].plot(history.history[\"val_accuracy\"], label=\"test accuracy\")\n",
        "    axs[0].set_ylabel(\"Accuracy\")\n",
        "    axs[0].legend(loc=\"lower right\")\n",
        "    axs[0].set_title(\"Accuracy eval\")\n",
        "\n",
        "    # create error sublpot\n",
        "    axs[1].plot(history.history[\"loss\"], label=\"train error\")\n",
        "    axs[1].plot(history.history[\"val_loss\"], label=\"test error\")\n",
        "    axs[1].set_ylabel(\"Error\")\n",
        "    axs[1].set_xlabel(\"Epoch\")\n",
        "    axs[1].legend(loc=\"upper right\")\n",
        "    axs[1].set_title(\"Error eval\")\n",
        "\n",
        "    plt.show()"
      ],
      "execution_count": 12,
      "outputs": []
    },
    {
      "cell_type": "markdown",
      "metadata": {
        "id": "9XHBFjO6HMjY"
      },
      "source": [
        "# CNN MODEL"
      ]
    },
    {
      "cell_type": "code",
      "metadata": {
        "id": "JOHcFkVeHOiT"
      },
      "source": [
        "# param input_shape (tuple): Shape of input set\n",
        "# return model: CNN model\n",
        "def build_model(input_shape):\n",
        "    # build network topology\n",
        "    model = keras.Sequential()\n",
        "\n",
        "    # 1st conv layer\n",
        "    model.add(keras.layers.Conv2D(32, (3, 3), activation='relu', input_shape=input_shape))\n",
        "    model.add(keras.layers.MaxPooling2D((3, 3), strides=(2, 2), padding='same'))\n",
        "    model.add(keras.layers.BatchNormalization())\n",
        "\n",
        "    # 2nd conv layer\n",
        "    model.add(keras.layers.Conv2D(32, (3, 3), activation='relu'))\n",
        "    model.add(keras.layers.MaxPooling2D((3, 3), strides=(2, 2), padding='same'))\n",
        "    model.add(keras.layers.BatchNormalization())\n",
        "\n",
        "    # 3rd conv layer\n",
        "    model.add(keras.layers.Conv2D(32, (2, 2), activation='relu'))\n",
        "    model.add(keras.layers.MaxPooling2D((2, 2), strides=(2, 2), padding='same'))\n",
        "    model.add(keras.layers.BatchNormalization())\n",
        "\n",
        "    # flatten output and feed it into dense layer\n",
        "    model.add(keras.layers.Flatten())\n",
        "    model.add(keras.layers.Dense(64, activation='relu'))\n",
        "    model.add(keras.layers.Dropout(0.3))\n",
        "\n",
        "    # output layer\n",
        "    model.add(keras.layers.Dense(10, activation='softmax'))\n",
        "\n",
        "    return model"
      ],
      "execution_count": 13,
      "outputs": []
    },
    {
      "cell_type": "markdown",
      "metadata": {
        "id": "8DHytTHzK85L"
      },
      "source": [
        "# PREDICTION"
      ]
    },
    {
      "cell_type": "code",
      "metadata": {
        "id": "Pp-QkbLJJzxU"
      },
      "source": [
        "# PREDICT A SINGLE SAMPLE\n",
        "def predict(model, X, y):\n",
        "\n",
        "    # add a dimension to input data for sample - model.predict() expects a 4d array in this case\n",
        "    X = X[np.newaxis, ...] # array shape (1, 130, 13, 1)\n",
        "\n",
        "    # perform prediction\n",
        "    prediction = model.predict(X)\n",
        "\n",
        "    # get index with max value\n",
        "    predicted_index = np.argmax(prediction, axis=1)\n",
        "\n",
        "    print(\"Target: {}, Predicted label: {}\".format(y, predicted_index))"
      ],
      "execution_count": 14,
      "outputs": []
    },
    {
      "cell_type": "markdown",
      "metadata": {
        "id": "DViXAFRzK_do"
      },
      "source": [
        "# RUNNER CODE"
      ]
    },
    {
      "cell_type": "code",
      "metadata": {
        "colab": {
          "base_uri": "https://localhost:8080/",
          "height": 1000
        },
        "id": "GNaIIDU_KMnL",
        "outputId": "da72cfe9-eae2-425e-fbdb-c544032d4c89"
      },
      "source": [
        "# MAIN RUNNER\n",
        "if __name__ == \"__main__\":\n",
        "\n",
        "    # get train, validation, test splits\n",
        "    X_train, X_validation, X_test, y_train, y_validation, y_test = prepare_datasets(0.2, 0.2)\n",
        "\n",
        "    # create network\n",
        "    input_shape = (X_train.shape[1], X_train.shape[2], 1)\n",
        "    model = build_model(input_shape)\n",
        "\n",
        "    # compile model\n",
        "    optimiser = keras.optimizers.Adam(learning_rate=0.0001)\n",
        "    model.compile(optimizer=optimiser,\n",
        "                  loss='sparse_categorical_crossentropy',\n",
        "                  metrics=['accuracy'])\n",
        "\n",
        "    model.summary()\n",
        "\n",
        "    # train model\n",
        "    history = model.fit(X_train, y_train, validation_data=(X_validation, y_validation), batch_size=32, epochs=30)\n",
        "\n",
        "    # plot accuracy/error for training and validation\n",
        "    plot_history(history)\n",
        "\n",
        "    # evaluate model on test set\n",
        "    test_loss, test_acc = model.evaluate(X_test, y_test, verbose=0)\n",
        "    print('\\nTest accuracy:', test_acc)\n",
        "\n",
        "    # pick a sample to predict from the test set\n",
        "    X_to_predict = X_test[100]\n",
        "    y_to_predict = y_test[100]\n",
        "\n",
        "    # predict sample\n",
        "    predict(model, X_to_predict, y_to_predict)"
      ],
      "execution_count": 15,
      "outputs": [
        {
          "output_type": "stream",
          "text": [
            "Model: \"sequential\"\n",
            "_________________________________________________________________\n",
            "Layer (type)                 Output Shape              Param #   \n",
            "=================================================================\n",
            "conv2d (Conv2D)              (None, 128, 11, 32)       320       \n",
            "_________________________________________________________________\n",
            "max_pooling2d (MaxPooling2D) (None, 64, 6, 32)         0         \n",
            "_________________________________________________________________\n",
            "batch_normalization (BatchNo (None, 64, 6, 32)         128       \n",
            "_________________________________________________________________\n",
            "conv2d_1 (Conv2D)            (None, 62, 4, 32)         9248      \n",
            "_________________________________________________________________\n",
            "max_pooling2d_1 (MaxPooling2 (None, 31, 2, 32)         0         \n",
            "_________________________________________________________________\n",
            "batch_normalization_1 (Batch (None, 31, 2, 32)         128       \n",
            "_________________________________________________________________\n",
            "conv2d_2 (Conv2D)            (None, 30, 1, 32)         4128      \n",
            "_________________________________________________________________\n",
            "max_pooling2d_2 (MaxPooling2 (None, 15, 1, 32)         0         \n",
            "_________________________________________________________________\n",
            "batch_normalization_2 (Batch (None, 15, 1, 32)         128       \n",
            "_________________________________________________________________\n",
            "flatten (Flatten)            (None, 480)               0         \n",
            "_________________________________________________________________\n",
            "dense (Dense)                (None, 64)                30784     \n",
            "_________________________________________________________________\n",
            "dropout (Dropout)            (None, 64)                0         \n",
            "_________________________________________________________________\n",
            "dense_1 (Dense)              (None, 10)                650       \n",
            "=================================================================\n",
            "Total params: 45,514\n",
            "Trainable params: 45,322\n",
            "Non-trainable params: 192\n",
            "_________________________________________________________________\n",
            "Epoch 1/30\n",
            "188/188 [==============================] - 13s 64ms/step - loss: 2.5762 - accuracy: 0.1894 - val_loss: 1.7431 - val_accuracy: 0.3892\n",
            "Epoch 2/30\n",
            "188/188 [==============================] - 11s 59ms/step - loss: 1.8569 - accuracy: 0.3574 - val_loss: 1.4862 - val_accuracy: 0.4533\n",
            "Epoch 3/30\n",
            "188/188 [==============================] - 11s 60ms/step - loss: 1.6448 - accuracy: 0.4171 - val_loss: 1.3648 - val_accuracy: 0.4893\n",
            "Epoch 4/30\n",
            "188/188 [==============================] - 11s 60ms/step - loss: 1.5571 - accuracy: 0.4395 - val_loss: 1.2870 - val_accuracy: 0.5240\n",
            "Epoch 5/30\n",
            "188/188 [==============================] - 11s 61ms/step - loss: 1.4324 - accuracy: 0.4797 - val_loss: 1.2341 - val_accuracy: 0.5414\n",
            "Epoch 6/30\n",
            "188/188 [==============================] - 11s 61ms/step - loss: 1.3516 - accuracy: 0.5202 - val_loss: 1.1851 - val_accuracy: 0.5581\n",
            "Epoch 7/30\n",
            "188/188 [==============================] - 12s 65ms/step - loss: 1.3175 - accuracy: 0.5198 - val_loss: 1.1413 - val_accuracy: 0.5995\n",
            "Epoch 8/30\n",
            "188/188 [==============================] - 12s 65ms/step - loss: 1.2341 - accuracy: 0.5641 - val_loss: 1.0887 - val_accuracy: 0.5961\n",
            "Epoch 9/30\n",
            "188/188 [==============================] - 12s 62ms/step - loss: 1.1920 - accuracy: 0.5752 - val_loss: 1.0764 - val_accuracy: 0.6101\n",
            "Epoch 10/30\n",
            "188/188 [==============================] - 11s 61ms/step - loss: 1.1739 - accuracy: 0.5802 - val_loss: 1.0585 - val_accuracy: 0.6228\n",
            "Epoch 11/30\n",
            "188/188 [==============================] - 12s 61ms/step - loss: 1.1260 - accuracy: 0.5957 - val_loss: 1.0346 - val_accuracy: 0.6282\n",
            "Epoch 12/30\n",
            "188/188 [==============================] - 11s 61ms/step - loss: 1.0568 - accuracy: 0.6275 - val_loss: 1.0002 - val_accuracy: 0.6348\n",
            "Epoch 13/30\n",
            "188/188 [==============================] - 12s 61ms/step - loss: 1.0611 - accuracy: 0.6273 - val_loss: 0.9734 - val_accuracy: 0.6589\n",
            "Epoch 14/30\n",
            "188/188 [==============================] - 11s 61ms/step - loss: 1.0434 - accuracy: 0.6258 - val_loss: 0.9624 - val_accuracy: 0.6469\n",
            "Epoch 15/30\n",
            "188/188 [==============================] - 12s 62ms/step - loss: 1.0242 - accuracy: 0.6427 - val_loss: 0.9598 - val_accuracy: 0.6562\n",
            "Epoch 16/30\n",
            "188/188 [==============================] - 12s 62ms/step - loss: 0.9744 - accuracy: 0.6571 - val_loss: 0.9238 - val_accuracy: 0.6709\n",
            "Epoch 17/30\n",
            "188/188 [==============================] - 12s 62ms/step - loss: 0.9376 - accuracy: 0.6788 - val_loss: 0.9246 - val_accuracy: 0.6615\n",
            "Epoch 18/30\n",
            "188/188 [==============================] - 12s 62ms/step - loss: 0.9272 - accuracy: 0.6658 - val_loss: 0.9154 - val_accuracy: 0.6796\n",
            "Epoch 19/30\n",
            "188/188 [==============================] - 12s 61ms/step - loss: 0.8883 - accuracy: 0.6868 - val_loss: 0.8830 - val_accuracy: 0.6869\n",
            "Epoch 20/30\n",
            "188/188 [==============================] - 12s 62ms/step - loss: 0.8821 - accuracy: 0.6913 - val_loss: 0.8633 - val_accuracy: 0.6862\n",
            "Epoch 21/30\n",
            "188/188 [==============================] - 12s 62ms/step - loss: 0.8381 - accuracy: 0.7098 - val_loss: 0.8650 - val_accuracy: 0.7036\n",
            "Epoch 22/30\n",
            "188/188 [==============================] - 11s 61ms/step - loss: 0.8613 - accuracy: 0.6990 - val_loss: 0.8508 - val_accuracy: 0.6936\n",
            "Epoch 23/30\n",
            "188/188 [==============================] - 11s 60ms/step - loss: 0.8143 - accuracy: 0.7185 - val_loss: 0.8361 - val_accuracy: 0.7043\n",
            "Epoch 24/30\n",
            "188/188 [==============================] - 12s 64ms/step - loss: 0.7858 - accuracy: 0.7299 - val_loss: 0.8523 - val_accuracy: 0.7023\n",
            "Epoch 25/30\n",
            "188/188 [==============================] - 11s 61ms/step - loss: 0.7868 - accuracy: 0.7272 - val_loss: 0.8191 - val_accuracy: 0.6983\n",
            "Epoch 26/30\n",
            "188/188 [==============================] - 11s 61ms/step - loss: 0.7554 - accuracy: 0.7353 - val_loss: 0.8108 - val_accuracy: 0.7063\n",
            "Epoch 27/30\n",
            "188/188 [==============================] - 11s 61ms/step - loss: 0.7431 - accuracy: 0.7422 - val_loss: 0.7945 - val_accuracy: 0.7016\n",
            "Epoch 28/30\n",
            "188/188 [==============================] - 11s 61ms/step - loss: 0.7170 - accuracy: 0.7557 - val_loss: 0.8113 - val_accuracy: 0.7116\n",
            "Epoch 29/30\n",
            "188/188 [==============================] - 11s 61ms/step - loss: 0.7218 - accuracy: 0.7586 - val_loss: 0.7918 - val_accuracy: 0.7190\n",
            "Epoch 30/30\n",
            "188/188 [==============================] - 12s 61ms/step - loss: 0.6989 - accuracy: 0.7568 - val_loss: 0.7928 - val_accuracy: 0.7116\n"
          ],
          "name": "stdout"
        },
        {
          "output_type": "display_data",
          "data": {
            "image/png": "[encoded data removed]",
            "text/plain": [
              "<Figure size 432x288 with 2 Axes>"
            ]
          },
          "metadata": {
            "tags": [],
            "needs_background": "light"
          }
        },
        {
          "output_type": "stream",
          "text": [
            "79/79 - 1s - loss: 0.8590 - accuracy: 0.7024\n",
            "\n",
            "Test accuracy: 0.7024429440498352\n",
            "Target: 9, Predicted label: [9]\n"
          ],
          "name": "stdout"
        }
      ]
    },
    {
      "cell_type": "code",
      "metadata": {
        "colab": {
          "base_uri": "https://localhost:8080/",
          "height": 1000
        },
        "id": "YmCfyd-vPUhh",
        "outputId": "bf0d79be-c3b1-42ff-ccaa-8f4c8b54a01d"
      },
      "source": [
        "# MAIN RUNNER\n",
        "if __name__ == \"__main__\":\n",
        "\n",
        "    # get train, validation, test splits\n",
        "    X_train, X_validation, X_test, y_train, y_validation, y_test = prepare_datasets(0.2, 0.2)\n",
        "\n",
        "    # create network\n",
        "    input_shape = (X_train.shape[1], X_train.shape[2], 1)\n",
        "    model = build_model(input_shape)\n",
        "\n",
        "    # compile model\n",
        "    optimiser = keras.optimizers.Adam(learning_rate=0.0001)\n",
        "    model.compile(optimizer=optimiser,\n",
        "                  loss='sparse_categorical_crossentropy',\n",
        "                  metrics=['accuracy'])\n",
        "\n",
        "    model.summary()\n",
        "\n",
        "    # train model\n",
        "    history = model.fit(X_train, y_train, validation_data=(X_validation, y_validation), batch_size=32, epochs=50)\n",
        "\n",
        "    # plot accuracy/error for training and validation\n",
        "    plot_history(history)\n",
        "\n",
        "    # evaluate model on test set\n",
        "    test_loss, test_acc = model.evaluate(X_test, y_test, verbose=0)\n",
        "    print('\\nTest accuracy:', test_acc)\n",
        "\n",
        "    # pick a sample to predict from the test set\n",
        "    X_to_predict = X_test[100]\n",
        "    y_to_predict = y_test[100]\n",
        "\n",
        "    # predict sample\n",
        "    predict(model, X_to_predict, y_to_predict)"
      ],
      "execution_count": 16,
      "outputs": [
        {
          "output_type": "stream",
          "text": [
            "Model: \"sequential_1\"\n",
            "_________________________________________________________________\n",
            "Layer (type)                 Output Shape              Param #   \n",
            "=================================================================\n",
            "conv2d_3 (Conv2D)            (None, 128, 11, 32)       320       \n",
            "_________________________________________________________________\n",
            "max_pooling2d_3 (MaxPooling2 (None, 64, 6, 32)         0         \n",
            "_________________________________________________________________\n",
            "batch_normalization_3 (Batch (None, 64, 6, 32)         128       \n",
            "_________________________________________________________________\n",
            "conv2d_4 (Conv2D)            (None, 62, 4, 32)         9248      \n",
            "_________________________________________________________________\n",
            "max_pooling2d_4 (MaxPooling2 (None, 31, 2, 32)         0         \n",
            "_________________________________________________________________\n",
            "batch_normalization_4 (Batch (None, 31, 2, 32)         128       \n",
            "_________________________________________________________________\n",
            "conv2d_5 (Conv2D)            (None, 30, 1, 32)         4128      \n",
            "_________________________________________________________________\n",
            "max_pooling2d_5 (MaxPooling2 (None, 15, 1, 32)         0         \n",
            "_________________________________________________________________\n",
            "batch_normalization_5 (Batch (None, 15, 1, 32)         128       \n",
            "_________________________________________________________________\n",
            "flatten_1 (Flatten)          (None, 480)               0         \n",
            "_________________________________________________________________\n",
            "dense_2 (Dense)              (None, 64)                30784     \n",
            "_________________________________________________________________\n",
            "dropout_1 (Dropout)          (None, 64)                0         \n",
            "_________________________________________________________________\n",
            "dense_3 (Dense)              (None, 10)                650       \n",
            "=================================================================\n",
            "Total params: 45,514\n",
            "Trainable params: 45,322\n",
            "Non-trainable params: 192\n",
            "_________________________________________________________________\n",
            "Epoch 1/50\n",
            "200/200 [==============================] - 12s 59ms/step - loss: 2.6404 - accuracy: 0.1972 - val_loss: 1.8770 - val_accuracy: 0.3561\n",
            "Epoch 2/50\n",
            "200/200 [==============================] - 12s 59ms/step - loss: 1.9671 - accuracy: 0.3319 - val_loss: 1.6068 - val_accuracy: 0.4380\n",
            "Epoch 3/50\n",
            "200/200 [==============================] - 12s 61ms/step - loss: 1.7063 - accuracy: 0.4097 - val_loss: 1.4852 - val_accuracy: 0.4668\n",
            "Epoch 4/50\n",
            "200/200 [==============================] - 13s 63ms/step - loss: 1.5380 - accuracy: 0.4522 - val_loss: 1.3980 - val_accuracy: 0.4969\n",
            "Epoch 5/50\n",
            "200/200 [==============================] - 13s 63ms/step - loss: 1.4922 - accuracy: 0.4697 - val_loss: 1.3215 - val_accuracy: 0.5288\n",
            "Epoch 6/50\n",
            "200/200 [==============================] - 12s 59ms/step - loss: 1.3798 - accuracy: 0.4982 - val_loss: 1.2618 - val_accuracy: 0.5476\n",
            "Epoch 7/50\n",
            "200/200 [==============================] - 12s 59ms/step - loss: 1.3149 - accuracy: 0.5262 - val_loss: 1.2244 - val_accuracy: 0.5682\n",
            "Epoch 8/50\n",
            "200/200 [==============================] - 12s 59ms/step - loss: 1.2542 - accuracy: 0.5457 - val_loss: 1.1813 - val_accuracy: 0.5964\n",
            "Epoch 9/50\n",
            "200/200 [==============================] - 12s 60ms/step - loss: 1.2205 - accuracy: 0.5625 - val_loss: 1.1570 - val_accuracy: 0.5945\n",
            "Epoch 10/50\n",
            "200/200 [==============================] - 12s 59ms/step - loss: 1.1758 - accuracy: 0.5883 - val_loss: 1.1145 - val_accuracy: 0.6158\n",
            "Epoch 11/50\n",
            "200/200 [==============================] - 12s 61ms/step - loss: 1.1503 - accuracy: 0.5989 - val_loss: 1.0903 - val_accuracy: 0.6308\n",
            "Epoch 12/50\n",
            "200/200 [==============================] - 12s 60ms/step - loss: 1.1055 - accuracy: 0.6016 - val_loss: 1.0524 - val_accuracy: 0.6320\n",
            "Epoch 13/50\n",
            "200/200 [==============================] - 12s 60ms/step - loss: 1.0606 - accuracy: 0.6158 - val_loss: 1.0363 - val_accuracy: 0.6345\n",
            "Epoch 14/50\n",
            "200/200 [==============================] - 13s 63ms/step - loss: 1.0438 - accuracy: 0.6314 - val_loss: 1.0705 - val_accuracy: 0.6214\n",
            "Epoch 15/50\n",
            "200/200 [==============================] - 12s 60ms/step - loss: 1.0449 - accuracy: 0.6296 - val_loss: 1.0038 - val_accuracy: 0.6502\n",
            "Epoch 16/50\n",
            "200/200 [==============================] - 12s 60ms/step - loss: 0.9583 - accuracy: 0.6623 - val_loss: 0.9967 - val_accuracy: 0.6533\n",
            "Epoch 17/50\n",
            "200/200 [==============================] - 12s 60ms/step - loss: 0.9728 - accuracy: 0.6581 - val_loss: 0.9798 - val_accuracy: 0.6589\n",
            "Epoch 18/50\n",
            "200/200 [==============================] - 12s 60ms/step - loss: 0.9597 - accuracy: 0.6615 - val_loss: 0.9637 - val_accuracy: 0.6596\n",
            "Epoch 19/50\n",
            "200/200 [==============================] - 12s 60ms/step - loss: 0.9132 - accuracy: 0.6786 - val_loss: 0.9707 - val_accuracy: 0.6665\n",
            "Epoch 20/50\n",
            "200/200 [==============================] - 12s 61ms/step - loss: 0.8884 - accuracy: 0.6915 - val_loss: 0.9548 - val_accuracy: 0.6802\n",
            "Epoch 21/50\n",
            "200/200 [==============================] - 12s 61ms/step - loss: 0.8687 - accuracy: 0.6948 - val_loss: 0.9464 - val_accuracy: 0.6721\n",
            "Epoch 22/50\n",
            "200/200 [==============================] - 12s 61ms/step - loss: 0.8561 - accuracy: 0.6971 - val_loss: 0.9221 - val_accuracy: 0.6758\n",
            "Epoch 23/50\n",
            "200/200 [==============================] - 12s 60ms/step - loss: 0.8358 - accuracy: 0.7097 - val_loss: 0.9599 - val_accuracy: 0.6646\n",
            "Epoch 24/50\n",
            "200/200 [==============================] - 12s 61ms/step - loss: 0.8311 - accuracy: 0.7121 - val_loss: 0.9211 - val_accuracy: 0.6827\n",
            "Epoch 25/50\n",
            "200/200 [==============================] - 12s 61ms/step - loss: 0.8215 - accuracy: 0.7082 - val_loss: 0.8963 - val_accuracy: 0.6996\n",
            "Epoch 26/50\n",
            "200/200 [==============================] - 12s 60ms/step - loss: 0.7820 - accuracy: 0.7204 - val_loss: 0.9051 - val_accuracy: 0.6815\n",
            "Epoch 27/50\n",
            "200/200 [==============================] - 12s 60ms/step - loss: 0.7700 - accuracy: 0.7319 - val_loss: 0.8879 - val_accuracy: 0.6921\n",
            "Epoch 28/50\n",
            "200/200 [==============================] - 12s 59ms/step - loss: 0.7538 - accuracy: 0.7363 - val_loss: 0.8740 - val_accuracy: 0.7046\n",
            "Epoch 29/50\n",
            "200/200 [==============================] - 12s 60ms/step - loss: 0.7691 - accuracy: 0.7345 - val_loss: 0.8775 - val_accuracy: 0.7059\n",
            "Epoch 30/50\n",
            "200/200 [==============================] - 13s 67ms/step - loss: 0.7294 - accuracy: 0.7454 - val_loss: 0.8923 - val_accuracy: 0.7003\n",
            "Epoch 31/50\n",
            "200/200 [==============================] - 13s 65ms/step - loss: 0.7030 - accuracy: 0.7591 - val_loss: 0.8710 - val_accuracy: 0.7096\n",
            "Epoch 32/50\n",
            "200/200 [==============================] - 12s 60ms/step - loss: 0.7213 - accuracy: 0.7427 - val_loss: 0.8584 - val_accuracy: 0.7128\n",
            "Epoch 33/50\n",
            "200/200 [==============================] - 12s 61ms/step - loss: 0.6855 - accuracy: 0.7637 - val_loss: 0.8444 - val_accuracy: 0.7215\n",
            "Epoch 34/50\n",
            "200/200 [==============================] - 12s 60ms/step - loss: 0.6540 - accuracy: 0.7769 - val_loss: 0.8766 - val_accuracy: 0.7121\n",
            "Epoch 35/50\n",
            "200/200 [==============================] - 12s 60ms/step - loss: 0.6736 - accuracy: 0.7650 - val_loss: 0.9005 - val_accuracy: 0.7015\n",
            "Epoch 36/50\n",
            "200/200 [==============================] - 12s 60ms/step - loss: 0.6843 - accuracy: 0.7670 - val_loss: 0.8577 - val_accuracy: 0.7071\n",
            "Epoch 37/50\n",
            "200/200 [==============================] - 12s 60ms/step - loss: 0.6288 - accuracy: 0.7838 - val_loss: 0.8624 - val_accuracy: 0.7034\n",
            "Epoch 38/50\n",
            "200/200 [==============================] - 12s 60ms/step - loss: 0.6212 - accuracy: 0.7775 - val_loss: 0.8680 - val_accuracy: 0.7103\n",
            "Epoch 39/50\n",
            "200/200 [==============================] - 12s 60ms/step - loss: 0.5978 - accuracy: 0.7947 - val_loss: 0.8364 - val_accuracy: 0.7196\n",
            "Epoch 40/50\n",
            "200/200 [==============================] - 14s 71ms/step - loss: 0.6193 - accuracy: 0.7826 - val_loss: 0.8589 - val_accuracy: 0.7234\n",
            "Epoch 41/50\n",
            "200/200 [==============================] - 14s 67ms/step - loss: 0.5744 - accuracy: 0.8108 - val_loss: 0.8286 - val_accuracy: 0.7284\n",
            "Epoch 42/50\n",
            "200/200 [==============================] - 12s 60ms/step - loss: 0.5605 - accuracy: 0.8068 - val_loss: 0.8255 - val_accuracy: 0.7290\n",
            "Epoch 43/50\n",
            "200/200 [==============================] - 12s 60ms/step - loss: 0.5521 - accuracy: 0.8108 - val_loss: 0.8166 - val_accuracy: 0.7359\n",
            "Epoch 44/50\n",
            "200/200 [==============================] - 12s 60ms/step - loss: 0.5369 - accuracy: 0.8139 - val_loss: 0.8353 - val_accuracy: 0.7303\n",
            "Epoch 45/50\n",
            "200/200 [==============================] - 12s 60ms/step - loss: 0.5608 - accuracy: 0.7995 - val_loss: 0.8027 - val_accuracy: 0.7340\n",
            "Epoch 46/50\n",
            "200/200 [==============================] - 12s 61ms/step - loss: 0.5478 - accuracy: 0.8122 - val_loss: 0.8208 - val_accuracy: 0.7340\n",
            "Epoch 47/50\n",
            "200/200 [==============================] - 12s 61ms/step - loss: 0.5426 - accuracy: 0.8144 - val_loss: 0.8185 - val_accuracy: 0.7272\n",
            "Epoch 48/50\n",
            "200/200 [==============================] - 12s 60ms/step - loss: 0.5257 - accuracy: 0.8145 - val_loss: 0.8490 - val_accuracy: 0.7171\n",
            "Epoch 49/50\n",
            "200/200 [==============================] - 12s 60ms/step - loss: 0.5269 - accuracy: 0.8142 - val_loss: 0.8140 - val_accuracy: 0.7453\n",
            "Epoch 50/50\n",
            "200/200 [==============================] - 12s 61ms/step - loss: 0.4971 - accuracy: 0.8340 - val_loss: 0.8432 - val_accuracy: 0.7340\n"
          ],
          "name": "stdout"
        },
        {
          "output_type": "display_data",
          "data": {
            "image/png": "[encoded data removed]",
            "text/plain": [
              "<Figure size 432x288 with 2 Axes>"
            ]
          },
          "metadata": {
            "tags": [],
            "needs_background": "light"
          }
        },
        {
          "output_type": "stream",
          "text": [
            "\n",
            "Test accuracy: 0.7107107043266296\n",
            "Target: 1, Predicted label: [1]\n"
          ],
          "name": "stdout"
        }
      ]
    }
  ]
}